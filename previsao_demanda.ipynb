{
  "nbformat": 4,
  "nbformat_minor": 0,
  "metadata": {
    "colab": {
      "provenance": [],
      "authorship_tag": "ABX9TyNR4pPGMhWJ5r2QOSbmMMky",
      "include_colab_link": true
    },
    "kernelspec": {
      "name": "python3",
      "display_name": "Python 3"
    },
    "language_info": {
      "name": "python"
    }
  },
  "cells": [
    {
      "cell_type": "markdown",
      "metadata": {
        "id": "view-in-github",
        "colab_type": "text"
      },
      "source": [
        "<a href=\"https://colab.research.google.com/github/WendelNCruz/frexco_previsao_de_demanda/blob/main/previsao_demanda.ipynb\" target=\"_parent\"><img src=\"https://colab.research.google.com/assets/colab-badge.svg\" alt=\"Open In Colab\"/></a>"
      ]
    },
    {
      "cell_type": "markdown",
      "source": [
        "Previsão de Demanda"
      ],
      "metadata": {
        "id": "70uJ6MwtMXTR"
      }
    },
    {
      "cell_type": "markdown",
      "source": [
        "Atualmente existem diversos modelos/técnicas utilizadas  para realizar a previsão de Séries Temporais, um dos mais conhecidos é o ARIMA (Autoregressive Integrated Moving Average). Tal modelo pode ser aplicado na previsão de demanda de uma cadeia de suprimentos, analisando diversas séries temporais com comportamentos distintos. Por possuir essas características se torna ideal para trabalhar com desafios em que os dados possuem alta volatilidade nas Séries Temporais, como ocorre nas vendas de determinados produtos."
      ],
      "metadata": {
        "id": "bppYjo9EMTjy"
      }
    },
    {
      "cell_type": "markdown",
      "source": [
        "Para trabalhar com ARIMA é preciso elencar seus três parâmetros, números inteiros representados pelas letras p, d e q. Cada uma dessas letras representam uma parte da sigla ARIMA:\n",
        "\n",
        "\n",
        "*   O parâmetro p está associado a parte auto-regressiva do modelo (AR), permitindo a incorporação do efeito de valores passados em nosso modelo;\n",
        "*   Já o parâmetro d é correlacionado a parte integrativa do modelo(I), sendo o número de diferenças não sazonais necessárias para estacionaridade;\n",
        "*   Por fim, o parâmetro q está ligado a parte da média móvel do modelo(MA), permitindo a visualização do número de erros de previsão defasados na equação."
      ],
      "metadata": {
        "id": "DHJTRjwrMWUb"
      }
    },
    {
      "cell_type": "markdown",
      "source": [
        "Uma série temporal é um modelo ARMA(p,q) se satisfizer:"
      ],
      "metadata": {
        "id": "JIHMzxWBfmbZ"
      }
    },
    {
      "cell_type": "markdown",
      "source": [
        "![Arima.png](data:image/png;base64,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)"
      ],
      "metadata": {
        "id": "8s48rCEif6VL"
      }
    },
    {
      "cell_type": "markdown",
      "source": [
        "onde ϕ1, ···, ϕp são os parâmetros da parte AR, θ1, ···, θq são os parâmetros da parte MA e at é um ruído branco."
      ],
      "metadata": {
        "id": "t-BJ5i9Wf-Fs"
      }
    },
    {
      "cell_type": "code",
      "source": [
        "!pip install pmdarima"
      ],
      "metadata": {
        "colab": {
          "base_uri": "https://localhost:8080/"
        },
        "id": "XafKLuUzgcya",
        "outputId": "02400b23-5632-4a30-fba1-f5ea407a3159"
      },
      "execution_count": 2,
      "outputs": [
        {
          "output_type": "stream",
          "name": "stdout",
          "text": [
            "Looking in indexes: https://pypi.org/simple, https://us-python.pkg.dev/colab-wheels/public/simple/\n",
            "Requirement already satisfied: pmdarima in /usr/local/lib/python3.8/dist-packages (2.0.2)\n",
            "Requirement already satisfied: scipy>=1.3.2 in /usr/local/lib/python3.8/dist-packages (from pmdarima) (1.7.3)\n",
            "Requirement already satisfied: numpy>=1.21.2 in /usr/local/lib/python3.8/dist-packages (from pmdarima) (1.21.6)\n",
            "Requirement already satisfied: urllib3 in /usr/local/lib/python3.8/dist-packages (from pmdarima) (1.24.3)\n",
            "Requirement already satisfied: Cython!=0.29.18,!=0.29.31,>=0.29 in /usr/local/lib/python3.8/dist-packages (from pmdarima) (0.29.33)\n",
            "Requirement already satisfied: setuptools!=50.0.0,>=38.6.0 in /usr/local/lib/python3.8/dist-packages (from pmdarima) (57.4.0)\n",
            "Requirement already satisfied: joblib>=0.11 in /usr/local/lib/python3.8/dist-packages (from pmdarima) (1.2.0)\n",
            "Requirement already satisfied: pandas>=0.19 in /usr/local/lib/python3.8/dist-packages (from pmdarima) (1.3.5)\n",
            "Requirement already satisfied: statsmodels>=0.13.2 in /usr/local/lib/python3.8/dist-packages (from pmdarima) (0.13.5)\n",
            "Requirement already satisfied: scikit-learn>=0.22 in /usr/local/lib/python3.8/dist-packages (from pmdarima) (1.0.2)\n",
            "Requirement already satisfied: pytz>=2017.3 in /usr/local/lib/python3.8/dist-packages (from pandas>=0.19->pmdarima) (2022.7.1)\n",
            "Requirement already satisfied: python-dateutil>=2.7.3 in /usr/local/lib/python3.8/dist-packages (from pandas>=0.19->pmdarima) (2.8.2)\n",
            "Requirement already satisfied: threadpoolctl>=2.0.0 in /usr/local/lib/python3.8/dist-packages (from scikit-learn>=0.22->pmdarima) (3.1.0)\n",
            "Requirement already satisfied: packaging>=21.3 in /usr/local/lib/python3.8/dist-packages (from statsmodels>=0.13.2->pmdarima) (23.0)\n",
            "Requirement already satisfied: patsy>=0.5.2 in /usr/local/lib/python3.8/dist-packages (from statsmodels>=0.13.2->pmdarima) (0.5.3)\n",
            "Requirement already satisfied: six in /usr/local/lib/python3.8/dist-packages (from patsy>=0.5.2->statsmodels>=0.13.2->pmdarima) (1.15.0)\n"
          ]
        }
      ]
    },
    {
      "cell_type": "code",
      "source": [
        "#Importando Blibiotecas\n",
        "\n",
        "import pandas as pd\n",
        "import numpy as np\n",
        "import seaborn as sns\n",
        "\n",
        "import matplotlib.pyplot as plt\n",
        "%matplotlib inline\n",
        "\n",
        "from pmdarima.arima import auto_arima\n",
        "\n",
        "#Upload na Base de Dados\n",
        "\n",
        "dateparse = lambda x: pd.to_datetime(x, format='%m/%d/%Y')\n",
        "data = pd.read_excel('Dados.xlsx', parse_dates=['Data'], index_col='Data', date_parser=dateparse)\n",
        "\n",
        "\n",
        "data.head(10)"
      ],
      "metadata": {
        "colab": {
          "base_uri": "https://localhost:8080/",
          "height": 394
        },
        "id": "M1ZWMiiLxrKb",
        "outputId": "601bd877-7a56-40f7-f595-83506b4f5db7"
      },
      "execution_count": 3,
      "outputs": [
        {
          "output_type": "execute_result",
          "data": {
            "text/plain": [
              "            Vendas\n",
              "Data              \n",
              "2022-12-06     870\n",
              "2022-12-07     868\n",
              "2022-12-08    1189\n",
              "2022-12-09     742\n",
              "2022-12-10     317\n",
              "2022-12-11     685\n",
              "2022-12-12    1366\n",
              "2022-12-13    1213\n",
              "2022-12-14    1055\n",
              "2022-12-15    1343"
            ],
            "text/html": [
              "\n",
              "  <div id=\"df-377d7d54-6033-4e4e-ab8b-5e07b4bf584f\">\n",
              "    <div class=\"colab-df-container\">\n",
              "      <div>\n",
              "<style scoped>\n",
              "    .dataframe tbody tr th:only-of-type {\n",
              "        vertical-align: middle;\n",
              "    }\n",
              "\n",
              "    .dataframe tbody tr th {\n",
              "        vertical-align: top;\n",
              "    }\n",
              "\n",
              "    .dataframe thead th {\n",
              "        text-align: right;\n",
              "    }\n",
              "</style>\n",
              "<table border=\"1\" class=\"dataframe\">\n",
              "  <thead>\n",
              "    <tr style=\"text-align: right;\">\n",
              "      <th></th>\n",
              "      <th>Vendas</th>\n",
              "    </tr>\n",
              "    <tr>\n",
              "      <th>Data</th>\n",
              "      <th></th>\n",
              "    </tr>\n",
              "  </thead>\n",
              "  <tbody>\n",
              "    <tr>\n",
              "      <th>2022-12-06</th>\n",
              "      <td>870</td>\n",
              "    </tr>\n",
              "    <tr>\n",
              "      <th>2022-12-07</th>\n",
              "      <td>868</td>\n",
              "    </tr>\n",
              "    <tr>\n",
              "      <th>2022-12-08</th>\n",
              "      <td>1189</td>\n",
              "    </tr>\n",
              "    <tr>\n",
              "      <th>2022-12-09</th>\n",
              "      <td>742</td>\n",
              "    </tr>\n",
              "    <tr>\n",
              "      <th>2022-12-10</th>\n",
              "      <td>317</td>\n",
              "    </tr>\n",
              "    <tr>\n",
              "      <th>2022-12-11</th>\n",
              "      <td>685</td>\n",
              "    </tr>\n",
              "    <tr>\n",
              "      <th>2022-12-12</th>\n",
              "      <td>1366</td>\n",
              "    </tr>\n",
              "    <tr>\n",
              "      <th>2022-12-13</th>\n",
              "      <td>1213</td>\n",
              "    </tr>\n",
              "    <tr>\n",
              "      <th>2022-12-14</th>\n",
              "      <td>1055</td>\n",
              "    </tr>\n",
              "    <tr>\n",
              "      <th>2022-12-15</th>\n",
              "      <td>1343</td>\n",
              "    </tr>\n",
              "  </tbody>\n",
              "</table>\n",
              "</div>\n",
              "      <button class=\"colab-df-convert\" onclick=\"convertToInteractive('df-377d7d54-6033-4e4e-ab8b-5e07b4bf584f')\"\n",
              "              title=\"Convert this dataframe to an interactive table.\"\n",
              "              style=\"display:none;\">\n",
              "        \n",
              "  <svg xmlns=\"http://www.w3.org/2000/svg\" height=\"24px\"viewBox=\"0 0 24 24\"\n",
              "       width=\"24px\">\n",
              "    <path d=\"M0 0h24v24H0V0z\" fill=\"none\"/>\n",
              "    <path d=\"M18.56 5.44l.94 2.06.94-2.06 2.06-.94-2.06-.94-.94-2.06-.94 2.06-2.06.94zm-11 1L8.5 8.5l.94-2.06 2.06-.94-2.06-.94L8.5 2.5l-.94 2.06-2.06.94zm10 10l.94 2.06.94-2.06 2.06-.94-2.06-.94-.94-2.06-.94 2.06-2.06.94z\"/><path d=\"M17.41 7.96l-1.37-1.37c-.4-.4-.92-.59-1.43-.59-.52 0-1.04.2-1.43.59L10.3 9.45l-7.72 7.72c-.78.78-.78 2.05 0 2.83L4 21.41c.39.39.9.59 1.41.59.51 0 1.02-.2 1.41-.59l7.78-7.78 2.81-2.81c.8-.78.8-2.07 0-2.86zM5.41 20L4 18.59l7.72-7.72 1.47 1.35L5.41 20z\"/>\n",
              "  </svg>\n",
              "      </button>\n",
              "      \n",
              "  <style>\n",
              "    .colab-df-container {\n",
              "      display:flex;\n",
              "      flex-wrap:wrap;\n",
              "      gap: 12px;\n",
              "    }\n",
              "\n",
              "    .colab-df-convert {\n",
              "      background-color: #E8F0FE;\n",
              "      border: none;\n",
              "      border-radius: 50%;\n",
              "      cursor: pointer;\n",
              "      display: none;\n",
              "      fill: #1967D2;\n",
              "      height: 32px;\n",
              "      padding: 0 0 0 0;\n",
              "      width: 32px;\n",
              "    }\n",
              "\n",
              "    .colab-df-convert:hover {\n",
              "      background-color: #E2EBFA;\n",
              "      box-shadow: 0px 1px 2px rgba(60, 64, 67, 0.3), 0px 1px 3px 1px rgba(60, 64, 67, 0.15);\n",
              "      fill: #174EA6;\n",
              "    }\n",
              "\n",
              "    [theme=dark] .colab-df-convert {\n",
              "      background-color: #3B4455;\n",
              "      fill: #D2E3FC;\n",
              "    }\n",
              "\n",
              "    [theme=dark] .colab-df-convert:hover {\n",
              "      background-color: #434B5C;\n",
              "      box-shadow: 0px 1px 3px 1px rgba(0, 0, 0, 0.15);\n",
              "      filter: drop-shadow(0px 1px 2px rgba(0, 0, 0, 0.3));\n",
              "      fill: #FFFFFF;\n",
              "    }\n",
              "  </style>\n",
              "\n",
              "      <script>\n",
              "        const buttonEl =\n",
              "          document.querySelector('#df-377d7d54-6033-4e4e-ab8b-5e07b4bf584f button.colab-df-convert');\n",
              "        buttonEl.style.display =\n",
              "          google.colab.kernel.accessAllowed ? 'block' : 'none';\n",
              "\n",
              "        async function convertToInteractive(key) {\n",
              "          const element = document.querySelector('#df-377d7d54-6033-4e4e-ab8b-5e07b4bf584f');\n",
              "          const dataTable =\n",
              "            await google.colab.kernel.invokeFunction('convertToInteractive',\n",
              "                                                     [key], {});\n",
              "          if (!dataTable) return;\n",
              "\n",
              "          const docLinkHtml = 'Like what you see? Visit the ' +\n",
              "            '<a target=\"_blank\" href=https://colab.research.google.com/notebooks/data_table.ipynb>data table notebook</a>'\n",
              "            + ' to learn more about interactive tables.';\n",
              "          element.innerHTML = '';\n",
              "          dataTable['output_type'] = 'display_data';\n",
              "          await google.colab.output.renderOutput(dataTable, element);\n",
              "          const docLink = document.createElement('div');\n",
              "          docLink.innerHTML = docLinkHtml;\n",
              "          element.appendChild(docLink);\n",
              "        }\n",
              "      </script>\n",
              "    </div>\n",
              "  </div>\n",
              "  "
            ]
          },
          "metadata": {},
          "execution_count": 3
        }
      ]
    },
    {
      "cell_type": "code",
      "source": [
        "# Com bases nos estilos padrões do https://urbaninstitute.github.io/graphics-styleguide/\n",
        "def plotar (titulo, labelx, labely, x, y, dataset):\n",
        "    sns.set_palette('Accent')\n",
        "    sns.set_style('darkgrid')\n",
        "    grafico = sns.lineplot(x=x, y=y, data=dataset)\n",
        "    grafico.figure.set_size_inches(16,8)\n",
        "    grafico.set_title(titulo, loc='left', fontsize=20)\n",
        "    grafico.set_xlabel(labelx, fontsize=16)\n",
        "    grafico.set_ylabel(labely, fontsize=16)\n",
        "    grafico = grafico\n",
        "  \n",
        "plotar('Previsão de Demanda', 'Data', 'Vendas', 'Data', 'Vendas', data)"
      ],
      "metadata": {
        "colab": {
          "base_uri": "https://localhost:8080/",
          "height": 523
        },
        "id": "I4yfiHxAyh_B",
        "outputId": "2efdf646-d082-4a43-e0f8-c2595b44c027"
      },
      "execution_count": 4,
      "outputs": [
        {
          "output_type": "display_data",
          "data": {
            "text/plain": [
              "<Figure size 1152x576 with 1 Axes>"
            ],
            "image/png": "[encoded data removed]"
          },
          "metadata": {}
        }
      ]
    },
    {
      "cell_type": "markdown",
      "source": [
        "Aplicação do AutoARIMA. Escolha de Parâmetros(p, d, q, P, D e Q):\n",
        "\n",
        "\n",
        "*   p = variação entre 1 e 6;\n",
        "*   q = variação entre 1 e 6;\n",
        "*   d = 1, MAX será 2(padrão);\n",
        "*   sazonalidade mensal (m=12);\n",
        "*   P iniando em 0, MAX será 2(padrão);\n",
        "*   Q iniando em 1, MAX será 2(padrão);\n",
        "*   D = 1, por padrão já é 1.\n",
        "\n",
        "Deve-se atribuir a uma variável o autoARIMA, onde será gerado vários modelos cos seus respectivos AIC's e BICS."
      ],
      "metadata": {
        "id": "1npiWnUYhT6b"
      }
    },
    {
      "cell_type": "code",
      "source": [
        "stepwise=auto_arima(data,start_p=1,start_q=1,max_p=6,max_q=6,m=12,start_P=0,seasonal=True,d=1,D=1,trace=True,\n",
        "                    error_action='ignore',suppress_warnings=True,stepwise=True)"
      ],
      "metadata": {
        "colab": {
          "base_uri": "https://localhost:8080/"
        },
        "id": "5FtshPNxylsv",
        "outputId": "bf62993f-494c-45a7-9489-c92e2df28d15"
      },
      "execution_count": 5,
      "outputs": [
        {
          "output_type": "stream",
          "name": "stdout",
          "text": [
            "Performing stepwise search to minimize aic\n",
            " ARIMA(1,1,1)(0,1,1)[12]             : AIC=inf, Time=1.50 sec\n",
            " ARIMA(0,1,0)(0,1,0)[12]             : AIC=532.826, Time=0.11 sec\n",
            " ARIMA(1,1,0)(1,1,0)[12]             : AIC=525.788, Time=0.46 sec\n",
            " ARIMA(0,1,1)(0,1,1)[12]             : AIC=inf, Time=0.70 sec\n",
            " ARIMA(1,1,0)(0,1,0)[12]             : AIC=533.620, Time=0.06 sec\n",
            " ARIMA(1,1,0)(2,1,0)[12]             : AIC=524.284, Time=0.76 sec\n",
            " ARIMA(1,1,0)(2,1,1)[12]             : AIC=inf, Time=1.15 sec\n",
            " ARIMA(1,1,0)(1,1,1)[12]             : AIC=inf, Time=0.48 sec\n",
            " ARIMA(0,1,0)(2,1,0)[12]             : AIC=523.481, Time=0.35 sec\n",
            " ARIMA(0,1,0)(1,1,0)[12]             : AIC=524.881, Time=0.11 sec\n",
            " ARIMA(0,1,0)(2,1,1)[12]             : AIC=525.086, Time=1.12 sec\n",
            " ARIMA(0,1,0)(1,1,1)[12]             : AIC=inf, Time=0.36 sec\n",
            " ARIMA(0,1,1)(2,1,0)[12]             : AIC=517.982, Time=0.47 sec\n",
            " ARIMA(0,1,1)(1,1,0)[12]             : AIC=521.211, Time=0.17 sec\n",
            " ARIMA(0,1,1)(2,1,1)[12]             : AIC=inf, Time=1.12 sec\n",
            " ARIMA(0,1,1)(1,1,1)[12]             : AIC=inf, Time=0.50 sec\n",
            " ARIMA(1,1,1)(2,1,0)[12]             : AIC=inf, Time=0.68 sec\n",
            " ARIMA(0,1,2)(2,1,0)[12]             : AIC=517.157, Time=0.93 sec\n",
            " ARIMA(0,1,2)(1,1,0)[12]             : AIC=519.381, Time=0.27 sec\n",
            " ARIMA(0,1,2)(2,1,1)[12]             : AIC=inf, Time=1.23 sec\n",
            " ARIMA(0,1,2)(1,1,1)[12]             : AIC=inf, Time=0.65 sec\n",
            " ARIMA(1,1,2)(2,1,0)[12]             : AIC=inf, Time=1.84 sec\n",
            " ARIMA(0,1,3)(2,1,0)[12]             : AIC=inf, Time=2.64 sec\n",
            " ARIMA(1,1,3)(2,1,0)[12]             : AIC=inf, Time=1.63 sec\n",
            " ARIMA(0,1,2)(2,1,0)[12] intercept   : AIC=516.552, Time=1.18 sec\n",
            " ARIMA(0,1,2)(1,1,0)[12] intercept   : AIC=inf, Time=0.52 sec\n",
            " ARIMA(0,1,2)(2,1,1)[12] intercept   : AIC=inf, Time=1.49 sec\n",
            " ARIMA(0,1,2)(1,1,1)[12] intercept   : AIC=516.607, Time=0.80 sec\n",
            " ARIMA(0,1,1)(2,1,0)[12] intercept   : AIC=inf, Time=1.25 sec\n",
            " ARIMA(1,1,2)(2,1,0)[12] intercept   : AIC=inf, Time=1.48 sec\n",
            " ARIMA(0,1,3)(2,1,0)[12] intercept   : AIC=520.339, Time=1.42 sec\n",
            " ARIMA(1,1,1)(2,1,0)[12] intercept   : AIC=inf, Time=2.13 sec\n",
            " ARIMA(1,1,3)(2,1,0)[12] intercept   : AIC=inf, Time=3.27 sec\n",
            "\n",
            "Best model:  ARIMA(0,1,2)(2,1,0)[12] intercept\n",
            "Total fit time: 32.976 seconds\n"
          ]
        }
      ]
    },
    {
      "cell_type": "code",
      "source": [
        "stepwise"
      ],
      "metadata": {
        "colab": {
          "base_uri": "https://localhost:8080/"
        },
        "id": "-hXhfr2x0PoS",
        "outputId": "ebc38ab2-feac-4875-a0db-5d42a09367fb"
      },
      "execution_count": 6,
      "outputs": [
        {
          "output_type": "execute_result",
          "data": {
            "text/plain": [
              "ARIMA(order=(0, 1, 2), scoring_args={}, seasonal_order=(2, 1, 0, 12),\n",
              "      suppress_warnings=True)"
            ]
          },
          "metadata": {},
          "execution_count": 6
        }
      ]
    },
    {
      "cell_type": "code",
      "source": [
        "stepwise.aic()"
      ],
      "metadata": {
        "colab": {
          "base_uri": "https://localhost:8080/"
        },
        "id": "M43MQ3mp0c0a",
        "outputId": "4db9729e-cf52-4150-8e93-ad719b3d00c0"
      },
      "execution_count": 7,
      "outputs": [
        {
          "output_type": "execute_result",
          "data": {
            "text/plain": [
              "516.55169078619"
            ]
          },
          "metadata": {},
          "execution_count": 7
        }
      ]
    },
    {
      "cell_type": "code",
      "source": [
        "stepwise1=auto_arima(data,start_p=1,start_q=1,max_p=6,max_q=6,m=12,start_P=0,seasonal=True,d=1,D=1,trace=True,\n",
        "                    error_action='ignore',suppress_warnings=True,stepwise=False)"
      ],
      "metadata": {
        "colab": {
          "base_uri": "https://localhost:8080/"
        },
        "id": "JMzKodVK0eTT",
        "outputId": "18c4daa1-a7dc-4ec5-94dd-3d490267c344"
      },
      "execution_count": 8,
      "outputs": [
        {
          "output_type": "stream",
          "name": "stdout",
          "text": [
            " ARIMA(0,1,0)(0,1,0)[12]             : AIC=532.826, Time=0.02 sec\n",
            " ARIMA(0,1,0)(0,1,1)[12]             : AIC=inf, Time=0.17 sec\n",
            " ARIMA(0,1,0)(0,1,2)[12]             : AIC=inf, Time=1.10 sec\n",
            " ARIMA(0,1,0)(1,1,0)[12]             : AIC=524.881, Time=0.10 sec\n",
            " ARIMA(0,1,0)(1,1,1)[12]             : AIC=inf, Time=0.42 sec\n",
            " ARIMA(0,1,0)(1,1,2)[12]             : AIC=inf, Time=0.89 sec\n",
            " ARIMA(0,1,0)(2,1,0)[12]             : AIC=523.481, Time=0.31 sec\n",
            " ARIMA(0,1,0)(2,1,1)[12]             : AIC=525.086, Time=1.11 sec\n",
            " ARIMA(0,1,0)(2,1,2)[12]             : AIC=inf, Time=1.21 sec\n",
            " ARIMA(0,1,1)(0,1,0)[12]             : AIC=526.410, Time=0.07 sec\n",
            " ARIMA(0,1,1)(0,1,1)[12]             : AIC=inf, Time=0.35 sec\n",
            " ARIMA(0,1,1)(0,1,2)[12]             : AIC=inf, Time=0.77 sec\n",
            " ARIMA(0,1,1)(1,1,0)[12]             : AIC=521.211, Time=0.36 sec\n",
            " ARIMA(0,1,1)(1,1,1)[12]             : AIC=inf, Time=0.51 sec\n",
            " ARIMA(0,1,1)(1,1,2)[12]             : AIC=inf, Time=1.15 sec\n",
            " ARIMA(0,1,1)(2,1,0)[12]             : AIC=517.982, Time=0.47 sec\n",
            " ARIMA(0,1,1)(2,1,1)[12]             : AIC=inf, Time=2.36 sec\n",
            " ARIMA(0,1,1)(2,1,2)[12]             : AIC=inf, Time=2.10 sec\n",
            " ARIMA(0,1,2)(0,1,0)[12]             : AIC=inf, Time=0.12 sec\n",
            " ARIMA(0,1,2)(0,1,1)[12]             : AIC=inf, Time=0.41 sec\n",
            " ARIMA(0,1,2)(0,1,2)[12]             : AIC=inf, Time=1.01 sec\n",
            " ARIMA(0,1,2)(1,1,0)[12]             : AIC=519.381, Time=0.27 sec\n",
            " ARIMA(0,1,2)(1,1,1)[12]             : AIC=inf, Time=0.64 sec\n",
            " ARIMA(0,1,2)(1,1,2)[12]             : AIC=inf, Time=1.24 sec\n",
            " ARIMA(0,1,2)(2,1,0)[12]             : AIC=517.157, Time=0.92 sec\n",
            " ARIMA(0,1,2)(2,1,1)[12]             : AIC=inf, Time=1.29 sec\n",
            " ARIMA(0,1,3)(0,1,0)[12]             : AIC=inf, Time=0.15 sec\n",
            " ARIMA(0,1,3)(0,1,1)[12]             : AIC=inf, Time=0.64 sec\n",
            " ARIMA(0,1,3)(0,1,2)[12]             : AIC=inf, Time=1.25 sec\n",
            " ARIMA(0,1,3)(1,1,0)[12]             : AIC=inf, Time=0.52 sec\n",
            " ARIMA(0,1,3)(1,1,1)[12]             : AIC=inf, Time=0.87 sec\n",
            " ARIMA(0,1,3)(2,1,0)[12]             : AIC=inf, Time=2.48 sec\n",
            " ARIMA(0,1,4)(0,1,0)[12]             : AIC=inf, Time=0.73 sec\n",
            " ARIMA(0,1,4)(0,1,1)[12]             : AIC=inf, Time=1.14 sec\n",
            " ARIMA(0,1,4)(1,1,0)[12]             : AIC=inf, Time=0.53 sec\n",
            " ARIMA(0,1,5)(0,1,0)[12]             : AIC=inf, Time=0.43 sec\n",
            " ARIMA(1,1,0)(0,1,0)[12]             : AIC=533.620, Time=0.03 sec\n",
            " ARIMA(1,1,0)(0,1,1)[12]             : AIC=inf, Time=0.37 sec\n",
            " ARIMA(1,1,0)(0,1,2)[12]             : AIC=inf, Time=0.80 sec\n",
            " ARIMA(1,1,0)(1,1,0)[12]             : AIC=525.788, Time=0.18 sec\n",
            " ARIMA(1,1,0)(1,1,1)[12]             : AIC=inf, Time=0.49 sec\n",
            " ARIMA(1,1,0)(1,1,2)[12]             : AIC=inf, Time=0.80 sec\n",
            " ARIMA(1,1,0)(2,1,0)[12]             : AIC=524.284, Time=0.45 sec\n",
            " ARIMA(1,1,0)(2,1,1)[12]             : AIC=inf, Time=1.13 sec\n",
            " ARIMA(1,1,0)(2,1,2)[12]             : AIC=inf, Time=1.44 sec\n",
            " ARIMA(1,1,1)(0,1,0)[12]             : AIC=526.581, Time=0.11 sec\n",
            " ARIMA(1,1,1)(0,1,1)[12]             : AIC=inf, Time=0.47 sec\n",
            " ARIMA(1,1,1)(0,1,2)[12]             : AIC=inf, Time=0.96 sec\n",
            " ARIMA(1,1,1)(1,1,0)[12]             : AIC=520.920, Time=0.47 sec\n",
            " ARIMA(1,1,1)(1,1,1)[12]             : AIC=inf, Time=0.67 sec\n",
            " ARIMA(1,1,1)(1,1,2)[12]             : AIC=inf, Time=2.94 sec\n",
            " ARIMA(1,1,1)(2,1,0)[12]             : AIC=inf, Time=1.28 sec\n",
            " ARIMA(1,1,1)(2,1,1)[12]             : AIC=inf, Time=1.42 sec\n",
            " ARIMA(1,1,2)(0,1,0)[12]             : AIC=inf, Time=0.14 sec\n",
            " ARIMA(1,1,2)(0,1,1)[12]             : AIC=inf, Time=0.60 sec\n",
            " ARIMA(1,1,2)(0,1,2)[12]             : AIC=inf, Time=1.24 sec\n",
            " ARIMA(1,1,2)(1,1,0)[12]             : AIC=inf, Time=0.38 sec\n",
            " ARIMA(1,1,2)(1,1,1)[12]             : AIC=inf, Time=0.79 sec\n",
            " ARIMA(1,1,2)(2,1,0)[12]             : AIC=inf, Time=0.97 sec\n",
            " ARIMA(1,1,3)(0,1,0)[12]             : AIC=inf, Time=0.36 sec\n",
            " ARIMA(1,1,3)(0,1,1)[12]             : AIC=inf, Time=0.88 sec\n",
            " ARIMA(1,1,3)(1,1,0)[12]             : AIC=inf, Time=0.74 sec\n",
            " ARIMA(1,1,4)(0,1,0)[12]             : AIC=inf, Time=0.43 sec\n",
            " ARIMA(2,1,0)(0,1,0)[12]             : AIC=524.285, Time=0.05 sec\n",
            " ARIMA(2,1,0)(0,1,1)[12]             : AIC=inf, Time=0.48 sec\n",
            " ARIMA(2,1,0)(0,1,2)[12]             : AIC=inf, Time=1.02 sec\n",
            " ARIMA(2,1,0)(1,1,0)[12]             : AIC=522.966, Time=0.25 sec\n",
            " ARIMA(2,1,0)(1,1,1)[12]             : AIC=inf, Time=0.85 sec\n",
            " ARIMA(2,1,0)(1,1,2)[12]             : AIC=inf, Time=2.62 sec\n",
            " ARIMA(2,1,0)(2,1,0)[12]             : AIC=inf, Time=1.55 sec\n",
            " ARIMA(2,1,0)(2,1,1)[12]             : AIC=515.543, Time=1.51 sec\n",
            " ARIMA(2,1,1)(0,1,0)[12]             : AIC=526.273, Time=0.08 sec\n",
            " ARIMA(2,1,1)(0,1,1)[12]             : AIC=inf, Time=0.69 sec\n",
            " ARIMA(2,1,1)(0,1,2)[12]             : AIC=inf, Time=1.44 sec\n",
            " ARIMA(2,1,1)(1,1,0)[12]             : AIC=520.824, Time=0.50 sec\n",
            " ARIMA(2,1,1)(1,1,1)[12]             : AIC=inf, Time=0.84 sec\n",
            " ARIMA(2,1,1)(2,1,0)[12]             : AIC=518.236, Time=1.20 sec\n",
            " ARIMA(2,1,2)(0,1,0)[12]             : AIC=inf, Time=0.17 sec\n",
            " ARIMA(2,1,2)(0,1,1)[12]             : AIC=inf, Time=0.82 sec\n",
            " ARIMA(2,1,2)(1,1,0)[12]             : AIC=inf, Time=0.86 sec\n",
            " ARIMA(2,1,3)(0,1,0)[12]             : AIC=inf, Time=0.41 sec\n",
            " ARIMA(3,1,0)(0,1,0)[12]             : AIC=526.279, Time=0.08 sec\n",
            " ARIMA(3,1,0)(0,1,1)[12]             : AIC=inf, Time=0.58 sec\n",
            " ARIMA(3,1,0)(0,1,2)[12]             : AIC=inf, Time=1.49 sec\n",
            " ARIMA(3,1,0)(1,1,0)[12]             : AIC=524.683, Time=0.72 sec\n",
            " ARIMA(3,1,0)(1,1,1)[12]             : AIC=inf, Time=1.49 sec\n",
            " ARIMA(3,1,0)(2,1,0)[12]             : AIC=inf, Time=1.60 sec\n",
            " ARIMA(3,1,1)(0,1,0)[12]             : AIC=525.557, Time=0.26 sec\n",
            " ARIMA(3,1,1)(0,1,1)[12]             : AIC=inf, Time=0.75 sec\n",
            " ARIMA(3,1,1)(1,1,0)[12]             : AIC=522.804, Time=0.52 sec\n",
            " ARIMA(3,1,2)(0,1,0)[12]             : AIC=inf, Time=0.29 sec\n",
            " ARIMA(4,1,0)(0,1,0)[12]             : AIC=527.778, Time=0.08 sec\n",
            " ARIMA(4,1,0)(0,1,1)[12]             : AIC=inf, Time=0.65 sec\n",
            " ARIMA(4,1,0)(1,1,0)[12]             : AIC=525.337, Time=0.48 sec\n",
            " ARIMA(4,1,1)(0,1,0)[12]             : AIC=524.677, Time=0.35 sec\n",
            " ARIMA(5,1,0)(0,1,0)[12]             : AIC=518.716, Time=0.28 sec\n",
            "\n",
            "Best model:  ARIMA(2,1,0)(2,1,1)[12]          \n",
            "Total fit time: 73.784 seconds\n"
          ]
        }
      ]
    },
    {
      "cell_type": "code",
      "source": [
        "stepwise1"
      ],
      "metadata": {
        "colab": {
          "base_uri": "https://localhost:8080/"
        },
        "id": "YsvOFmrj0g1b",
        "outputId": "8356e0f5-dc60-440a-d573-6476ee8fa023"
      },
      "execution_count": 9,
      "outputs": [
        {
          "output_type": "execute_result",
          "data": {
            "text/plain": [
              "ARIMA(order=(2, 1, 0), scoring_args={}, seasonal_order=(2, 1, 1, 12),\n",
              "      suppress_warnings=True, with_intercept=False)"
            ]
          },
          "metadata": {},
          "execution_count": 9
        }
      ]
    },
    {
      "cell_type": "code",
      "source": [
        "stepwise1.aic()"
      ],
      "metadata": {
        "colab": {
          "base_uri": "https://localhost:8080/"
        },
        "id": "sYV0a56t1AR-",
        "outputId": "0eb469b2-3ef4-4b11-c453-5c74814b32ad"
      },
      "execution_count": 10,
      "outputs": [
        {
          "output_type": "execute_result",
          "data": {
            "text/plain": [
              "515.5426021300159"
            ]
          },
          "metadata": {},
          "execution_count": 10
        }
      ]
    },
    {
      "cell_type": "markdown",
      "source": [
        "Separação dos dados de treino e de teste:\n",
        "\n",
        "Utilização do autoARIMA para gerar uma validação do modelo. Os dados de treino serão usado para treinar o autoARIMA e os dados de teste para comparar com as preisões geradas."
      ],
      "metadata": {
        "id": "RWhCHiGc1Fyy"
      }
    },
    {
      "cell_type": "code",
      "source": [
        "train=data.loc['2022/12/06':'2023/01/21']\n",
        "test=data.loc['2023/01/01':]"
      ],
      "metadata": {
        "id": "O35gXbQf1B7W"
      },
      "execution_count": 11,
      "outputs": []
    },
    {
      "cell_type": "code",
      "source": [
        "#Treinar os modelos gerados\n",
        "stepwise.fit(train)\n",
        "stepwise1.fit(train)"
      ],
      "metadata": {
        "colab": {
          "base_uri": "https://localhost:8080/"
        },
        "id": "qFrJcFXV1eTh",
        "outputId": "5599db7b-b024-4ae8-ac1e-65377f5f10a3"
      },
      "execution_count": 12,
      "outputs": [
        {
          "output_type": "execute_result",
          "data": {
            "text/plain": [
              "ARIMA(order=(2, 1, 0), scoring_args={}, seasonal_order=(2, 1, 1, 12),\n",
              "      suppress_warnings=True, with_intercept=False)"
            ]
          },
          "metadata": {},
          "execution_count": 12
        }
      ]
    },
    {
      "cell_type": "code",
      "source": [
        "#Gerar as previsões de cada modelo\n",
        "future_forecast=stepwise.predict(n_periods=5)\n",
        "future_forecast1=stepwise1.predict(n_periods=5)"
      ],
      "metadata": {
        "id": "cpgHZUhz1f_p"
      },
      "execution_count": 13,
      "outputs": []
    },
    {
      "cell_type": "code",
      "source": [
        "#Transformando as previsões em um dataframe\n",
        "future_forecast=pd.DataFrame(future_forecast,index=test.index, columns=['Previsão 1'])\n",
        "future_forecast1=pd.DataFrame(future_forecast1,index=test.index, columns=['Previsão 2'])"
      ],
      "metadata": {
        "id": "fNj775cE1mOT"
      },
      "execution_count": 15,
      "outputs": []
    },
    {
      "cell_type": "code",
      "source": [
        "stepwise.fit(data)"
      ],
      "metadata": {
        "colab": {
          "base_uri": "https://localhost:8080/"
        },
        "id": "jET5rTuf1xGc",
        "outputId": "f477eef0-b945-472c-9c83-a8cab8167577"
      },
      "execution_count": 17,
      "outputs": [
        {
          "output_type": "execute_result",
          "data": {
            "text/plain": [
              "ARIMA(order=(0, 1, 2), scoring_args={}, seasonal_order=(2, 1, 0, 12),\n",
              "      suppress_warnings=True)"
            ]
          },
          "metadata": {},
          "execution_count": 17
        }
      ]
    },
    {
      "cell_type": "code",
      "source": [
        "future_forecast2=stepwise.predict(n_periods=5)"
      ],
      "metadata": {
        "id": "DVTIqyod2GD3"
      },
      "execution_count": 19,
      "outputs": []
    },
    {
      "cell_type": "code",
      "source": [
        "#Previsão para os próximos 5 dias\n",
        "\n",
        "future_forecast2=pd.DataFrame(future_forecast2, \n",
        "                              index=pd.date_range(start='21/01/2023',\n",
        "                                                  end='25/01/2023', freq='MS'),columns=['Previsão Próximos 5 dias'])"
      ],
      "metadata": {
        "id": "lK6but2J1z2s"
      },
      "execution_count": 20,
      "outputs": []
    }
  ]
}